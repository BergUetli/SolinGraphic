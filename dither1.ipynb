{
  "nbformat": 4,
  "nbformat_minor": 0,
  "metadata": {
    "colab": {
      "provenance": [],
      "authorship_tag": "ABX9TyNjSk/1hbpisSBtC2qYNMM5",
      "include_colab_link": true
    },
    "kernelspec": {
      "name": "python3",
      "display_name": "Python 3"
    },
    "language_info": {
      "name": "python"
    }
  },
  "cells": [
    {
      "cell_type": "markdown",
      "metadata": {
        "id": "view-in-github",
        "colab_type": "text"
      },
      "source": [
        "<a href=\"https://colab.research.google.com/github/BergUetli/SolinGraphic/blob/main/dither1.ipynb\" target=\"_parent\"><img src=\"https://colab.research.google.com/assets/colab-badge.svg\" alt=\"Open In Colab\"/></a>"
      ]
    },
    {
      "cell_type": "code",
      "execution_count": 16,
      "metadata": {
        "colab": {
          "base_uri": "https://localhost:8080/",
          "height": 217
        },
        "id": "SBxr4WQBCGil",
        "outputId": "5364ef1f-35b4-463e-9133-3caa8e9da433"
      },
      "outputs": [
        {
          "output_type": "display_data",
          "data": {
            "text/plain": [
              "<PIL.Image.Image image mode=RGB size=200x200>"
            ],
            "image/png": "[encoded data removed]",
            "image/jpeg": "[encoded data removed]"
          },
          "metadata": {}
        }
      ],
      "source": [
        "from PIL import Image, ImageDraw\n",
        "\n",
        "# Create a new image with a white background\n",
        "img = Image.new('RGB', (200, 200), color = 'white')\n",
        "d = ImageDraw.Draw(img)\n",
        "\n",
        "# Draw a black rectangle (the box interior)\n",
        "d.rectangle([(10, 10), (190, 190)], fill='black')\n",
        "\n",
        "# Draw a white rectangle (the border). This will overlay the black,\n",
        "# leaving a white border due to the background.\n",
        "# We need to adjust the coordinates slightly to make the border visible.\n",
        "border_width = 1\n",
        "d.rectangle([(10 - border_width, 10 - border_width), (190 + border_width, 190 + border_width)], outline='white', width=border_width)\n",
        "\n",
        "\n",
        "# Display the image\n",
        "display(img)"
      ]
    }
  ]
}